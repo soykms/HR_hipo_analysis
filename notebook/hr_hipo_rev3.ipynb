{
 "cells": [
  {
   "cell_type": "code",
   "execution_count": null,
   "metadata": {},
   "outputs": [],
   "source": [
    "pip install mysql-connector-python"
   ]
  },
  {
   "cell_type": "code",
   "execution_count": null,
   "metadata": {},
   "outputs": [],
   "source": [
    "pip install scipy "
   ]
  },
  {
   "cell_type": "code",
   "execution_count": null,
   "metadata": {},
   "outputs": [],
   "source": [
    "pip install sqlalchemy"
   ]
  },
  {
   "cell_type": "code",
   "execution_count": 2,
   "metadata": {},
   "outputs": [
    {
     "name": "stdout",
     "output_type": "stream",
     "text": [
      "   Age Attrition     BusinessTravel  DailyRate              Department  \\\n",
      "0   41       Yes      Travel_Rarely       1102                   Sales   \n",
      "1   49        No  Travel_Frequently        279  Research & Development   \n",
      "2   37       Yes      Travel_Rarely       1373  Research & Development   \n",
      "\n",
      "   DistanceFromHome  Education EducationField  EmployeeCount  EmployeeNumber  \\\n",
      "0                 1          2  Life Sciences              1               1   \n",
      "1                 8          1  Life Sciences              1               2   \n",
      "2                 2          2          Other              1               4   \n",
      "\n",
      "   ...  RelationshipSatisfaction StandardHours  StockOptionLevel  \\\n",
      "0  ...                         1            80                 0   \n",
      "1  ...                         4            80                 1   \n",
      "2  ...                         2            80                 0   \n",
      "\n",
      "   TotalWorkingYears  TrainingTimesLastYear WorkLifeBalance  YearsAtCompany  \\\n",
      "0                  8                      0               1               6   \n",
      "1                 10                      3               3              10   \n",
      "2                  7                      3               3               0   \n",
      "\n",
      "  YearsInCurrentRole  YearsSinceLastPromotion  YearsWithCurrManager  \n",
      "0                  4                        0                     5  \n",
      "1                  7                        1                     7  \n",
      "2                  0                        0                     0  \n",
      "\n",
      "[3 rows x 35 columns]\n"
     ]
    }
   ],
   "source": [
    "from sqlalchemy import create_engine\n",
    "import mysql.connector\n",
    "import pandas as pd\n",
    "\n",
    "# 서버 연결 정보 설정\n",
    "host = 'localhost'\n",
    "user = 'root'\n",
    "password = 'password'\n",
    "database = 'hr_hipo'\n",
    "\n",
    "# # MySQL 서버에 연결 (import mysql.connector)\n",
    "# connection = mysql.connector.connect(\n",
    "#     host=host,\n",
    "#     user=user,\n",
    "#     password=password,\n",
    "#     database=database\n",
    "#     )\n",
    "# cursor = connection.cursor()\n",
    "query = \"SELECT * FROM hr_hipo\" \n",
    "# df1 = pd.read_sql(query, connection)\n",
    "\n",
    "# MySQL 서버에 연결 (sqlalchemy)\n",
    "engine = create_engine(f'mysql+mysqlconnector://{user}:{password}@{host}/{database}')\n",
    "df2 = pd.read_sql(query, engine)\n",
    "print(df2.head(3))\n",
    "\n"
   ]
  },
  {
   "cell_type": "markdown",
   "metadata": {},
   "source": [
    "EDA 1 TotalWorkingYears\n",
    "근속년수와 퍼포먼스간 특징 분포 확인"
   ]
  },
  {
   "cell_type": "code",
   "execution_count": null,
   "metadata": {
    "vscode": {
     "languageId": "sql"
    }
   },
   "outputs": [],
   "source": [
    "-- TotalWorkingYears data description \n",
    "select \n",
    "\tPerformanceRating, \t   \n",
    "\tavg(TotalWorkingYears),\n",
    "    count(TotalWorkingYears),\n",
    "    min(TotalWorkingYears),\n",
    "    max(TotalWorkingYears),\n",
    "    std(TotalWorkingYears)\n",
    "   \n",
    "from hr_hipo.hr_hipo \n",
    "group by PerformanceRating"
   ]
  },
  {
   "cell_type": "code",
   "execution_count": 4,
   "metadata": {},
   "outputs": [
    {
     "name": "stdout",
     "output_type": "stream",
     "text": [
      "<bound method NDFrame.head of    avg(TotalWorkingYears)  count(TotalWorkingYears)  min(TotalWorkingYears)  \\\n",
      "0                 11.2572                      1244                       0   \n",
      "1                 11.4027                       226                       1   \n",
      "\n",
      "   max(TotalWorkingYears)  std(TotalWorkingYears)  PerformanceRating  \n",
      "0                      40                7.777021                  3  \n",
      "1                      37                7.783110                  4  >\n"
     ]
    }
   ],
   "source": [
    "# EDA 1)TotalWorkingYears  \n",
    "query_workyear1 = \"select avg(TotalWorkingYears),count(TotalWorkingYears),min(TotalWorkingYears),max(TotalWorkingYears),std(TotalWorkingYears),PerformanceRating from hr_hipo.hr_hipo group by PerformanceRating\"  \n",
    "df1 = pd.read_sql(query_workyear1, engine)\n",
    "print(df1.head)\n"
   ]
  },
  {
   "cell_type": "code",
   "execution_count": 44,
   "metadata": {},
   "outputs": [
    {
     "data": {
      "text/plain": [
       "<Axes: xlabel='TotalWorkingYears', ylabel='Count'>"
      ]
     },
     "execution_count": 44,
     "metadata": {},
     "output_type": "execute_result"
    },
    {
     "data": {
      "image/png": "[encoded data removed]",
      "text/plain": [
       "<Figure size 640x480 with 1 Axes>"
      ]
     },
     "metadata": {},
     "output_type": "display_data"
    }
   ],
   "source": [
    "# EDA 1)TotalWorkingYears  \n",
    "import matplotlib.pyplot as plt\n",
    "import seaborn as sns\n",
    "query = \"SELECT * FROM hr_hipo\" \n",
    "df = pd.read_sql(query, engine)\n",
    "# df[['TotalWorkingYears','PerformanceRating']]\n",
    "\n",
    "sns.histplot(data=df,x='TotalWorkingYears', hue='PerformanceRating', palette='GnBu')\n",
    "\n",
    "# hist_per_year = sns.FacetGrid(df, col='PerformanceRating', height=4, aspect=1.5)\n",
    "# hist_per_year.map_dataframe(sns.histplot, x='TotalWorkingYears', bins=20)\n",
    "# hist_per_year.set_axis_labels('TotalWorkingYears', 'Frequency')\n",
    "# hist_per_year.set_titles('PerformanceRating {col_name}')\n",
    "# hist_per_year.tight_layout()\n",
    "# plt.show()\n",
    "\n"
   ]
  },
  {
   "cell_type": "code",
   "execution_count": 45,
   "metadata": {},
   "outputs": [
    {
     "data": {
      "text/plain": [
       "<Axes: xlabel='PerformanceRating', ylabel='TotalWorkingYears'>"
      ]
     },
     "execution_count": 45,
     "metadata": {},
     "output_type": "execute_result"
    },
    {
     "data": {
      "image/png": "[encoded data removed]",
      "text/plain": [
       "<Figure size 640x480 with 1 Axes>"
      ]
     },
     "metadata": {},
     "output_type": "display_data"
    }
   ],
   "source": [
    "# EDA 1)TotalWorkingYears \n",
    "\n",
    "df = pd.read_sql(query, engine)\n",
    "sns.boxplot(data=df, x='PerformanceRating',y='TotalWorkingYears',palette={4:\"skyblue\",3:\"ivory\"})"
   ]
  },
  {
   "cell_type": "code",
   "execution_count": 19,
   "metadata": {},
   "outputs": [
    {
     "name": "stdout",
     "output_type": "stream",
     "text": [
      "          Perfor_3    Perfor_4\n",
      "count  1244.000000  226.000000\n",
      "mean     11.257235   11.402655\n",
      "std       7.780149    7.800387\n",
      "min       0.000000    1.000000\n",
      "25%       6.000000    6.000000\n",
      "50%      10.000000   10.000000\n",
      "75%      15.000000   14.750000\n",
      "max      40.000000   37.000000\n"
     ]
    }
   ],
   "source": [
    "# EDA 1)TotalWorkingYears \n",
    "df3=df[df['PerformanceRating'] == 3]['TotalWorkingYears'].describe()\n",
    "df4=df[df['PerformanceRating'] == 4]['TotalWorkingYears'].describe()\n",
    "\n",
    "combined_df = pd.concat([df3, df4], axis=1)\n",
    "combined_df.columns = ['Perfor_3', 'Perfor_4']\n",
    "\n",
    "print(combined_df)\n",
    "\n",
    "# No significant difference "
   ]
  },
  {
   "cell_type": "code",
   "execution_count": 80,
   "metadata": {},
   "outputs": [
    {
     "name": "stdout",
     "output_type": "stream",
     "text": [
      "LeveneResult(statistic=0.002356473798030655, pvalue=0.9612896808160774)\n",
      "TtestResult(statistic=-0.2583860592624208, pvalue=0.7961451950286312, df=1468.0)\n"
     ]
    }
   ],
   "source": [
    "# EDA 1)TotalWorkingYears \n",
    "from scipy.stats import ttest_ind\n",
    "from scipy.stats import levene\n",
    "\n",
    "df3=df[df['PerformanceRating'] == 3]['TotalWorkingYears']\n",
    "df4=df[df['PerformanceRating'] == 4]['TotalWorkingYears']\n",
    "\n",
    "print(levene(df3,df4))\n",
    "print(stats.ttest_ind(df3,df4))\n",
    "\n",
    "# LeveneResult(statistic=0.002356473798030655, pvalue=0.9612896808160774)\n",
    "# => 두 집단의 등분산이 가정된다.\n",
    "\n",
    "# TtestResult(statistic=-0.2583860592624208, pvalue=0.7961451950286312, df=1468.0)\n",
    "# => 두 집단은 통계적으로 유의한 차이를 보이지 않는다. \n"
   ]
  },
  {
   "cell_type": "markdown",
   "metadata": {},
   "source": [
    "EDA 2 WorkLiffeBalance\n",
    "업무 성과가 낮은 사람의 일과 생활의 균형 정도를 추출하여 특징을 그래프로 표현"
   ]
  },
  {
   "cell_type": "code",
   "execution_count": 81,
   "metadata": {},
   "outputs": [
    {
     "data": {
      "image/png": "[encoded data removed]",
      "text/plain": [
       "<Figure size 640x480 with 1 Axes>"
      ]
     },
     "metadata": {},
     "output_type": "display_data"
    },
    {
     "data": {
      "image/png": "[encoded data removed]",
      "text/plain": [
       "<Figure size 640x480 with 1 Axes>"
      ]
     },
     "metadata": {},
     "output_type": "display_data"
    }
   ],
   "source": [
    "# EDA 2) WorkLifeBalance  \n",
    "import matplotlib.pyplot as plt\n",
    "import seaborn as sns\n",
    "query = \"SELECT * FROM hr_hipo\" \n",
    "df = pd.read_sql(query, engine)\n",
    "\n",
    "# sns.histplot(data=df,x='WorkLifeBalance', hue='PerformanceRating', palette='GnBu')\n",
    "\n",
    "# 'PerformanceRating' == 3\n",
    "plt.hist(df[df['PerformanceRating'] == 3]['WorkLifeBalance'])\n",
    "plt.xlabel('WorkLifeBalance')\n",
    "plt.xticks(range(1,4))\n",
    "plt.title(\"WorkLifeBalance (per3)\")\n",
    "plt.show()\n",
    "\n",
    "# 'PerformanceRating' == 4\n",
    "plt.hist(df[df['PerformanceRating'] == 4]['WorkLifeBalance'])\n",
    "plt.xlabel('WorkLifeBalance')\n",
    "plt.xticks(range(int(df['WorkLifeBalance'].min()), int(df['WorkLifeBalance'].max()) + 1))\n",
    "plt.title(\"WorkLifeBalance (per4)\")\n",
    "plt.show()"
   ]
  },
  {
   "cell_type": "code",
   "execution_count": 122,
   "metadata": {},
   "outputs": [
    {
     "data": {
      "text/plain": [
       "Chi2ContingencyResult(statistic=0.943625347591136, pvalue=0.8148892551840032, dof=3, expected_freq=array([[755.70884354, 291.11292517, 129.47755102,  67.70068027],\n",
       "       [137.29115646,  52.88707483,  23.52244898,  12.29931973]]))"
      ]
     },
     "execution_count": 122,
     "metadata": {},
     "output_type": "execute_result"
    }
   ],
   "source": [
    "from scipy.stats import chi2_contingency\n",
    "query = \"SELECT * FROM hr_hipo\" \n",
    "df = pd.read_sql(query, engine)\n",
    "\n",
    "df3=df[df['PerformanceRating'] == 3]['WorkLifeBalance'].value_counts().reset_index()\n",
    "df4=df[df['PerformanceRating'] == 4]['WorkLifeBalance'].value_counts().reset_index()\n",
    "combined_df = pd.concat([df3, df4], axis=1)\n",
    "\n",
    "combined_df=combined_df.iloc[:,[0,1,3]]\n",
    "combined_df.columns=[\"WorkLifeBalance\",\"per3\",\"per4\"]\n",
    "combined_df=combined_df.T\n",
    "\n",
    "combined_df\n",
    "combined_df.columns = combined_df.iloc[0]\n",
    "combined_df = combined_df.iloc[1:]\n",
    "\n",
    "combined_df\n",
    "\n",
    "chi2_contingency(combined_df)\n",
    "# Chi2ContingencyResult(statistic=0.943625347591136, pvalue=0.8148892551840032, dof=3, expected_freq=array([[755.70884354, 291.11292517, 129.47755102,  67.70068027], [137.29115646,  52.88707483,  23.52244898,  12.29931973]]))\n",
    "# 통계적으로 동일하다 "
   ]
  },
  {
   "cell_type": "markdown",
   "metadata": {},
   "source": [
    "EDA 3 YearsSinceLastPromotion"
   ]
  },
  {
   "cell_type": "code",
   "execution_count": null,
   "metadata": {
    "vscode": {
     "languageId": "sql"
    }
   },
   "outputs": [],
   "source": [
    "-- YearsSinceLastPromotion data description  \n",
    "select \n",
    "    avg(YearsSinceLastPromotion),\n",
    "    count(YearsSinceLastPromotion),\n",
    "    min(YearsSinceLastPromotion)\n",
    "    ,max(YearsSinceLastPromotion),\n",
    "    std(YearsSinceLastPromotion),\n",
    "    PerformanceRating \n",
    "from hr_hipo.hr_hipo \n",
    "group by PerformanceRating"
   ]
  },
  {
   "cell_type": "code",
   "execution_count": 128,
   "metadata": {},
   "outputs": [
    {
     "name": "stdout",
     "output_type": "stream",
     "text": [
      "   avg(YearsSinceLastPromotion)  count(YearsSinceLastPromotion)  \\\n",
      "0                        2.1632                            1244   \n",
      "1                        2.3230                             226   \n",
      "\n",
      "   min(YearsSinceLastPromotion)  max(YearsSinceLastPromotion)  \\\n",
      "0                             0                            15   \n",
      "1                             0                            15   \n",
      "\n",
      "   std(YearsSinceLastPromotion)  PerformanceRating  \n",
      "0                      3.177477                  3  \n",
      "1                      3.449651                  4  \n"
     ]
    }
   ],
   "source": [
    "query = \"SELECT * FROM hr_hipo\" \n",
    "df = pd.read_sql(query, engine)\n",
    "\n",
    "query_workyear1 = \"select avg(YearsSinceLastPromotion),count(YearsSinceLastPromotion),min(YearsSinceLastPromotion),max(YearsSinceLastPromotion),std(YearsSinceLastPromotion),PerformanceRating from hr_hipo.hr_hipo group by PerformanceRating\"  \n",
    "df1 = pd.read_sql(query_workyear1, engine)\n",
    "\n",
    "df[['YearsSinceLastPromotion','PerformanceRating']]\n",
    "print(df1)"
   ]
  },
  {
   "cell_type": "code",
   "execution_count": 135,
   "metadata": {},
   "outputs": [
    {
     "data": {
      "text/plain": [
       "<Axes: xlabel='YearsSinceLastPromotion', ylabel='Count'>"
      ]
     },
     "execution_count": 135,
     "metadata": {},
     "output_type": "execute_result"
    },
    {
     "data": {
      "image/png": "[encoded data removed]",
      "text/plain": [
       "<Figure size 640x480 with 1 Axes>"
      ]
     },
     "metadata": {},
     "output_type": "display_data"
    }
   ],
   "source": [
    "sns.histplot(data=df,x='YearsSinceLastPromotion', hue='PerformanceRating', palette='GnBu')\n"
   ]
  },
  {
   "cell_type": "code",
   "execution_count": 136,
   "metadata": {},
   "outputs": [
    {
     "data": {
      "text/plain": [
       "<Axes: xlabel='PerformanceRating', ylabel='YearsSinceLastPromotion'>"
      ]
     },
     "execution_count": 136,
     "metadata": {},
     "output_type": "execute_result"
    },
    {
     "data": {
      "image/png": "[encoded data removed]",
      "text/plain": [
       "<Figure size 640x480 with 1 Axes>"
      ]
     },
     "metadata": {},
     "output_type": "display_data"
    }
   ],
   "source": [
    "sns.boxplot(data=df, x='PerformanceRating',y='YearsSinceLastPromotion',palette={4:\"skyblue\",3:\"ivory\"})"
   ]
  },
  {
   "cell_type": "markdown",
   "metadata": {},
   "source": [
    "EDA 4 OverTime"
   ]
  },
  {
   "cell_type": "code",
   "execution_count": null,
   "metadata": {
    "vscode": {
     "languageId": "sql"
    }
   },
   "outputs": [],
   "source": [
    "-- OverTime data description  \n",
    "select \n",
    "    PerformanceRating,\n",
    "    SUM(CASE WHEN OverTime  = 'Yes' THEN 1 ELSE 0 END) AS YesCount,\n",
    "    SUM(CASE WHEN OverTime  = 'No' THEN 1 ELSE 0 END) AS YesCount,\n",
    "    count(*) as TotalCount,\n",
    "    SUM(CASE WHEN OverTime  = 'Yes' THEN 1 ELSE 0 END)/count(*) as YesRatio,\n",
    "    SUM(CASE WHEN OverTime  = 'No' THEN 1 ELSE 0 END)/count(*) as NoRatio\n",
    "from hr_hipo.hr_hipo\n",
    "group by PerformanceRating"
   ]
  },
  {
   "cell_type": "code",
   "execution_count": 157,
   "metadata": {},
   "outputs": [
    {
     "data": {
      "text/html": [
       "<div>\n",
       "<style scoped>\n",
       "    .dataframe tbody tr th:only-of-type {\n",
       "        vertical-align: middle;\n",
       "    }\n",
       "\n",
       "    .dataframe tbody tr th {\n",
       "        vertical-align: top;\n",
       "    }\n",
       "\n",
       "    .dataframe thead th {\n",
       "        text-align: right;\n",
       "    }\n",
       "</style>\n",
       "<table border=\"1\" class=\"dataframe\">\n",
       "  <thead>\n",
       "    <tr style=\"text-align: right;\">\n",
       "      <th>OverTime</th>\n",
       "      <th>PerformanceRating</th>\n",
       "      <th>No</th>\n",
       "      <th>Yes</th>\n",
       "      <th>YesRatio</th>\n",
       "      <th>NoRatio</th>\n",
       "    </tr>\n",
       "  </thead>\n",
       "  <tbody>\n",
       "    <tr>\n",
       "      <th>0</th>\n",
       "      <td>3</td>\n",
       "      <td>893</td>\n",
       "      <td>351</td>\n",
       "      <td>0.282154</td>\n",
       "      <td>0.717846</td>\n",
       "    </tr>\n",
       "    <tr>\n",
       "      <th>1</th>\n",
       "      <td>4</td>\n",
       "      <td>161</td>\n",
       "      <td>65</td>\n",
       "      <td>0.287611</td>\n",
       "      <td>0.712389</td>\n",
       "    </tr>\n",
       "  </tbody>\n",
       "</table>\n",
       "</div>"
      ],
      "text/plain": [
       "OverTime  PerformanceRating   No  Yes  YesRatio   NoRatio\n",
       "0                         3  893  351  0.282154  0.717846\n",
       "1                         4  161   65  0.287611  0.712389"
      ]
     },
     "execution_count": 157,
     "metadata": {},
     "output_type": "execute_result"
    }
   ],
   "source": [
    "query = \"SELECT * FROM hr_hipo\"  \n",
    "df = pd.read_sql(query, engine)\n",
    "\n",
    "# 'OverTime' 컬럼을 기준으로 'Yes' 및 'No' 값의 개수와 총 개수 계산\n",
    "result_df = df.groupby('PerformanceRating')['OverTime'].value_counts().unstack(fill_value=0)\n",
    "\n",
    "# 'Yes' 및 'No' 비율 계산\n",
    "result_df['YesRatio'] = result_df['Yes'] / (result_df['Yes'] + result_df['No'])\n",
    "result_df['NoRatio'] = result_df['No'] / (result_df['Yes'] + result_df['No'])\n",
    "result_df.reset_index(inplace=True)\n",
    "\n",
    "result_df"
   ]
  },
  {
   "cell_type": "markdown",
   "metadata": {},
   "source": [
    "EDA 5 StockOptionLevel"
   ]
  },
  {
   "cell_type": "code",
   "execution_count": null,
   "metadata": {
    "vscode": {
     "languageId": "sql"
    }
   },
   "outputs": [],
   "source": [
    "-- StockOptionLevel data description\n",
    "select \n",
    "    PerformanceRating,\n",
    "    SUM(CASE WHEN StockOptionLevel = 3 THEN 1 ELSE 0 END) AS stock3,\n",
    "    SUM(CASE WHEN StockOptionLevel = 2 THEN 1 ELSE 0 END) AS stock2,\n",
    "    SUM(CASE WHEN StockOptionLevel = 1 THEN 1 ELSE 0 END) AS stock1,\n",
    "    SUM(CASE WHEN StockOptionLevel = 0 THEN 1 ELSE 0 END) AS stock0,\n",
    "    count(*) as TotalCount,\n",
    "    SUM(CASE WHEN StockOptionLevel = 3 THEN 1 ELSE 0 END)/count(*) as stock3_ratio,\n",
    "    SUM(CASE WHEN StockOptionLevel = 2 THEN 1 ELSE 0 END)/count(*) as stock2_ratio,\n",
    "    SUM(CASE WHEN StockOptionLevel = 1 THEN 1 ELSE 0 END)/count(*) as stock1_ratio,\n",
    "    SUM(CASE WHEN StockOptionLevel = 0 THEN 1 ELSE 0 END)/count(*) as stock0_ratio\n",
    "    \n",
    "    from hr_hipo.hr_hipo\n",
    "group by PerformanceRating"
   ]
  },
  {
   "cell_type": "code",
   "execution_count": 187,
   "metadata": {},
   "outputs": [
    {
     "data": {
      "text/html": [
       "<div>\n",
       "<style scoped>\n",
       "    .dataframe tbody tr th:only-of-type {\n",
       "        vertical-align: middle;\n",
       "    }\n",
       "\n",
       "    .dataframe tbody tr th {\n",
       "        vertical-align: top;\n",
       "    }\n",
       "\n",
       "    .dataframe thead th {\n",
       "        text-align: right;\n",
       "    }\n",
       "</style>\n",
       "<table border=\"1\" class=\"dataframe\">\n",
       "  <thead>\n",
       "    <tr style=\"text-align: right;\">\n",
       "      <th>StockOptionLevel</th>\n",
       "      <th>PerformanceRating</th>\n",
       "      <th>stock3_ratio</th>\n",
       "      <th>stock2_ratio</th>\n",
       "      <th>stock1_ratio</th>\n",
       "      <th>stock0_ratio</th>\n",
       "    </tr>\n",
       "  </thead>\n",
       "  <tbody>\n",
       "    <tr>\n",
       "      <th>0</th>\n",
       "      <td>3</td>\n",
       "      <td>0.058682</td>\n",
       "      <td>0.109325</td>\n",
       "      <td>0.397910</td>\n",
       "      <td>0.434084</td>\n",
       "    </tr>\n",
       "    <tr>\n",
       "      <th>1</th>\n",
       "      <td>4</td>\n",
       "      <td>0.053097</td>\n",
       "      <td>0.097345</td>\n",
       "      <td>0.446903</td>\n",
       "      <td>0.402655</td>\n",
       "    </tr>\n",
       "  </tbody>\n",
       "</table>\n",
       "</div>"
      ],
      "text/plain": [
       "StockOptionLevel  PerformanceRating  stock3_ratio  stock2_ratio  stock1_ratio  \\\n",
       "0                                 3      0.058682      0.109325      0.397910   \n",
       "1                                 4      0.053097      0.097345      0.446903   \n",
       "\n",
       "StockOptionLevel  stock0_ratio  \n",
       "0                     0.434084  \n",
       "1                     0.402655  "
      ]
     },
     "execution_count": 187,
     "metadata": {},
     "output_type": "execute_result"
    }
   ],
   "source": [
    "query = \"SELECT * FROM hr_hipo\"  \n",
    "df = pd.read_sql(query, engine)\n",
    "\n",
    "# 'StockOptionLevel' 컬럼을 기준으로 스톡레벨 값의 개수와 총 개수 계산\n",
    "result_df = df.groupby('PerformanceRating')['StockOptionLevel'].value_counts().unstack(fill_value=0)\n",
    "\n",
    "# 'Yes' 및 'No' 비율 계산\n",
    "result_df['stock3_ratio'] = result_df[3] / (result_df[3] + result_df[2]+ result_df[1]+ result_df[0])\n",
    "result_df['stock2_ratio'] = result_df[2] / (result_df[3] + result_df[2]+ result_df[1]+ result_df[0])\n",
    "result_df['stock1_ratio'] = result_df[1] / (result_df[3] + result_df[2]+ result_df[1]+ result_df[0])\n",
    "result_df['stock0_ratio'] = result_df[0] / (result_df[3] + result_df[2]+ result_df[1]+ result_df[0])\n",
    "result_df.reset_index(inplace=True)\n",
    "\n",
    "df3=result_df[['PerformanceRating','stock3_ratio','stock2_ratio','stock1_ratio','stock0_ratio']]\n",
    "df3\n",
    "\n",
    " \n",
    "# pie3\n",
    "\n",
    "# -- import matplotlib.pyplot as plt\n",
    "# -- plt.pie(result_df[['PerformanceRating','stock3_ratio','stock2_ratio','stock1_ratio','stock0_ratio']])\n"
   ]
  },
  {
   "cell_type": "code",
   "execution_count": 191,
   "metadata": {},
   "outputs": [
    {
     "data": {
      "image/png": "[encoded data removed]",
      "text/plain": [
       "<Figure size 800x400 with 2 Axes>"
      ]
     },
     "metadata": {},
     "output_type": "display_data"
    },
    {
     "ename": "",
     "evalue": "",
     "output_type": "error",
     "traceback": [
      "\u001b[1;31mThe Kernel crashed while executing code in the the current cell or a previous cell. Please review the code in the cell(s) to identify a possible cause of the failure. Click <a href='https://aka.ms/vscodeJupyterKernelCrash'>here</a> for more info. View Jupyter <a href='command:jupyter.viewOutput'>log</a> for further details."
     ]
    }
   ],
   "source": [
    "query = \"SELECT * FROM hr_hipo\"  \n",
    "df = pd.read_sql(query, engine)\n",
    "df[['PerformanceRating','StockOptionLevel']]\n",
    "\n",
    "# PerformanceRating와 StockOptionLevel 조합별 개수 계산\n",
    "combination_counts = df.groupby(['PerformanceRating', 'StockOptionLevel']).size().reset_index(name='Count')\n",
    "\n",
    "pr3_data = df[df['PerformanceRating'] == 3]\n",
    "pr4_data = df[df['PerformanceRating'] == 4]\n",
    "\n",
    "# PR3 파이차트 그리기\n",
    "plt.figure(figsize=(8, 4))\n",
    "plt.subplot(1, 2, 1)\n",
    "pr3_counts = pr3_data['StockOptionLevel'].value_counts()\n",
    "plt.pie(pr3_counts, labels=pr3_counts.index.map(str), autopct='%1.1f%%', startangle=90)\n",
    "plt.title('PerformanceRating 3')\n",
    "\n",
    "# PR4 파이차트 그리기\n",
    "plt.subplot(1, 2, 2)\n",
    "pr4_counts = pr4_data['StockOptionLevel'].value_counts()\n",
    "plt.pie(pr4_counts, labels=pr4_counts.index.map(str), autopct='%1.1f%%', startangle=90)\n",
    "plt.title('PerformanceRating 4')\n",
    "\n",
    "plt.tight_layout()\n",
    "plt.show()"
   ]
  },
  {
   "cell_type": "markdown",
   "metadata": {},
   "source": [
    "EDA 6 Main Attributes "
   ]
  },
  {
   "cell_type": "code",
   "execution_count": 6,
   "metadata": {},
   "outputs": [
    {
     "data": {
      "text/html": [
       "<div>\n",
       "<style scoped>\n",
       "    .dataframe tbody tr th:only-of-type {\n",
       "        vertical-align: middle;\n",
       "    }\n",
       "\n",
       "    .dataframe tbody tr th {\n",
       "        vertical-align: top;\n",
       "    }\n",
       "\n",
       "    .dataframe thead th {\n",
       "        text-align: right;\n",
       "    }\n",
       "</style>\n",
       "<table border=\"1\" class=\"dataframe\">\n",
       "  <thead>\n",
       "    <tr style=\"text-align: right;\">\n",
       "      <th></th>\n",
       "      <th>Age</th>\n",
       "      <th>Attrition</th>\n",
       "      <th>BusinessTravel</th>\n",
       "      <th>DailyRate</th>\n",
       "      <th>Department</th>\n",
       "      <th>DistanceFromHome</th>\n",
       "      <th>Education</th>\n",
       "      <th>EducationField</th>\n",
       "      <th>EmployeeCount</th>\n",
       "      <th>EmployeeNumber</th>\n",
       "      <th>...</th>\n",
       "      <th>RelationshipSatisfaction</th>\n",
       "      <th>StandardHours</th>\n",
       "      <th>StockOptionLevel</th>\n",
       "      <th>TotalWorkingYears</th>\n",
       "      <th>TrainingTimesLastYear</th>\n",
       "      <th>WorkLifeBalance</th>\n",
       "      <th>YearsAtCompany</th>\n",
       "      <th>YearsInCurrentRole</th>\n",
       "      <th>YearsSinceLastPromotion</th>\n",
       "      <th>YearsWithCurrManager</th>\n",
       "    </tr>\n",
       "  </thead>\n",
       "  <tbody>\n",
       "    <tr>\n",
       "      <th>0</th>\n",
       "      <td>41</td>\n",
       "      <td>Yes</td>\n",
       "      <td>Travel_Rarely</td>\n",
       "      <td>1102</td>\n",
       "      <td>Sales</td>\n",
       "      <td>1</td>\n",
       "      <td>2</td>\n",
       "      <td>Life Sciences</td>\n",
       "      <td>1</td>\n",
       "      <td>1</td>\n",
       "      <td>...</td>\n",
       "      <td>1</td>\n",
       "      <td>80</td>\n",
       "      <td>0</td>\n",
       "      <td>8</td>\n",
       "      <td>0</td>\n",
       "      <td>1</td>\n",
       "      <td>6</td>\n",
       "      <td>4</td>\n",
       "      <td>0</td>\n",
       "      <td>5</td>\n",
       "    </tr>\n",
       "    <tr>\n",
       "      <th>1</th>\n",
       "      <td>49</td>\n",
       "      <td>No</td>\n",
       "      <td>Travel_Frequently</td>\n",
       "      <td>279</td>\n",
       "      <td>Research &amp; Development</td>\n",
       "      <td>8</td>\n",
       "      <td>1</td>\n",
       "      <td>Life Sciences</td>\n",
       "      <td>1</td>\n",
       "      <td>2</td>\n",
       "      <td>...</td>\n",
       "      <td>4</td>\n",
       "      <td>80</td>\n",
       "      <td>1</td>\n",
       "      <td>10</td>\n",
       "      <td>3</td>\n",
       "      <td>3</td>\n",
       "      <td>10</td>\n",
       "      <td>7</td>\n",
       "      <td>1</td>\n",
       "      <td>7</td>\n",
       "    </tr>\n",
       "    <tr>\n",
       "      <th>2</th>\n",
       "      <td>37</td>\n",
       "      <td>Yes</td>\n",
       "      <td>Travel_Rarely</td>\n",
       "      <td>1373</td>\n",
       "      <td>Research &amp; Development</td>\n",
       "      <td>2</td>\n",
       "      <td>2</td>\n",
       "      <td>Other</td>\n",
       "      <td>1</td>\n",
       "      <td>4</td>\n",
       "      <td>...</td>\n",
       "      <td>2</td>\n",
       "      <td>80</td>\n",
       "      <td>0</td>\n",
       "      <td>7</td>\n",
       "      <td>3</td>\n",
       "      <td>3</td>\n",
       "      <td>0</td>\n",
       "      <td>0</td>\n",
       "      <td>0</td>\n",
       "      <td>0</td>\n",
       "    </tr>\n",
       "    <tr>\n",
       "      <th>3</th>\n",
       "      <td>33</td>\n",
       "      <td>No</td>\n",
       "      <td>Travel_Frequently</td>\n",
       "      <td>1392</td>\n",
       "      <td>Research &amp; Development</td>\n",
       "      <td>3</td>\n",
       "      <td>4</td>\n",
       "      <td>Life Sciences</td>\n",
       "      <td>1</td>\n",
       "      <td>5</td>\n",
       "      <td>...</td>\n",
       "      <td>3</td>\n",
       "      <td>80</td>\n",
       "      <td>0</td>\n",
       "      <td>8</td>\n",
       "      <td>3</td>\n",
       "      <td>3</td>\n",
       "      <td>8</td>\n",
       "      <td>7</td>\n",
       "      <td>3</td>\n",
       "      <td>0</td>\n",
       "    </tr>\n",
       "    <tr>\n",
       "      <th>4</th>\n",
       "      <td>27</td>\n",
       "      <td>No</td>\n",
       "      <td>Travel_Rarely</td>\n",
       "      <td>591</td>\n",
       "      <td>Research &amp; Development</td>\n",
       "      <td>2</td>\n",
       "      <td>1</td>\n",
       "      <td>Medical</td>\n",
       "      <td>1</td>\n",
       "      <td>7</td>\n",
       "      <td>...</td>\n",
       "      <td>4</td>\n",
       "      <td>80</td>\n",
       "      <td>1</td>\n",
       "      <td>6</td>\n",
       "      <td>3</td>\n",
       "      <td>3</td>\n",
       "      <td>2</td>\n",
       "      <td>2</td>\n",
       "      <td>2</td>\n",
       "      <td>2</td>\n",
       "    </tr>\n",
       "  </tbody>\n",
       "</table>\n",
       "<p>5 rows × 35 columns</p>\n",
       "</div>"
      ],
      "text/plain": [
       "   Age Attrition     BusinessTravel  DailyRate              Department  \\\n",
       "0   41       Yes      Travel_Rarely       1102                   Sales   \n",
       "1   49        No  Travel_Frequently        279  Research & Development   \n",
       "2   37       Yes      Travel_Rarely       1373  Research & Development   \n",
       "3   33        No  Travel_Frequently       1392  Research & Development   \n",
       "4   27        No      Travel_Rarely        591  Research & Development   \n",
       "\n",
       "   DistanceFromHome  Education EducationField  EmployeeCount  EmployeeNumber  \\\n",
       "0                 1          2  Life Sciences              1               1   \n",
       "1                 8          1  Life Sciences              1               2   \n",
       "2                 2          2          Other              1               4   \n",
       "3                 3          4  Life Sciences              1               5   \n",
       "4                 2          1        Medical              1               7   \n",
       "\n",
       "   ...  RelationshipSatisfaction StandardHours  StockOptionLevel  \\\n",
       "0  ...                         1            80                 0   \n",
       "1  ...                         4            80                 1   \n",
       "2  ...                         2            80                 0   \n",
       "3  ...                         3            80                 0   \n",
       "4  ...                         4            80                 1   \n",
       "\n",
       "   TotalWorkingYears  TrainingTimesLastYear WorkLifeBalance  YearsAtCompany  \\\n",
       "0                  8                      0               1               6   \n",
       "1                 10                      3               3              10   \n",
       "2                  7                      3               3               0   \n",
       "3                  8                      3               3               8   \n",
       "4                  6                      3               3               2   \n",
       "\n",
       "  YearsInCurrentRole  YearsSinceLastPromotion  YearsWithCurrManager  \n",
       "0                  4                        0                     5  \n",
       "1                  7                        1                     7  \n",
       "2                  0                        0                     0  \n",
       "3                  7                        3                     0  \n",
       "4                  2                        2                     2  \n",
       "\n",
       "[5 rows x 35 columns]"
      ]
     },
     "execution_count": 6,
     "metadata": {},
     "output_type": "execute_result"
    }
   ],
   "source": [
    "query = \"SELECT * FROM hr_hipo\"  \n",
    "df = pd.read_sql(query, engine)\n",
    "df.head(5)"
   ]
  },
  {
   "cell_type": "code",
   "execution_count": 26,
   "metadata": {},
   "outputs": [],
   "source": [
    "import pandas as pd\n",
    "from sklearn.ensemble import RandomForestClassifier\n",
    "from sklearn.model_selection import train_test_split\n",
    "\n",
    "query = \"SELECT * FROM hr_hipo\"  \n",
    "df = pd.read_sql(query, engine)\n",
    "# df.columns\n",
    "\n",
    "df = df.drop(columns=['PercentSalaryHike'])\n",
    "Y_train = df.pop('PerformanceRating')\n",
    "X_train=pd.get_dummies(df)\n",
    "\n",
    "x_train, x_val, y_train, y_val = train_test_split(X_train, Y_train, test_size=0.2, random_state=42)"
   ]
  },
  {
   "cell_type": "code",
   "execution_count": 27,
   "metadata": {},
   "outputs": [
    {
     "name": "stdout",
     "output_type": "stream",
     "text": [
      "<bound method NDFrame.head of                               Feature  Importance\n",
      "5                      EmployeeNumber    0.070530\n",
      "12                        MonthlyRate    0.062863\n",
      "11                      MonthlyIncome    0.062852\n",
      "1                           DailyRate    0.057849\n",
      "7                          HourlyRate    0.057831\n",
      "0                                 Age    0.053641\n",
      "2                    DistanceFromHome    0.045219\n",
      "17                  TotalWorkingYears    0.042849\n",
      "23               YearsWithCurrManager    0.034700\n",
      "20                     YearsAtCompany    0.034411\n",
      "21                 YearsInCurrentRole    0.033934\n",
      "13                 NumCompaniesWorked    0.032755\n",
      "22            YearsSinceLastPromotion    0.030265\n",
      "3                           Education    0.027401\n",
      "18              TrainingTimesLastYear    0.027309\n",
      "14           RelationshipSatisfaction    0.021567\n",
      "8                      JobInvolvement    0.021308\n",
      "10                    JobSatisfaction    0.021274\n",
      "6             EnvironmentSatisfaction    0.020859\n",
      "19                    WorkLifeBalance    0.020399\n",
      "16                   StockOptionLevel    0.015859\n",
      "9                            JobLevel    0.013466\n",
      "39                        Gender_Male    0.009985\n",
      "33       EducationField_Life Sciences    0.009778\n",
      "44     JobRole_Manufacturing Director    0.009190\n",
      "54                       OverTime_Yes    0.008879\n",
      "28       BusinessTravel_Travel_Rarely    0.008767\n",
      "53                        OverTime_No    0.008654\n",
      "35             EducationField_Medical    0.008536\n",
      "50              MaritalStatus_Married    0.007906\n",
      "51               MaritalStatus_Single    0.007727\n",
      "46         JobRole_Research Scientist    0.007700\n",
      "49             MaritalStatus_Divorced    0.007654\n",
      "42      JobRole_Laboratory Technician    0.007574\n",
      "38                      Gender_Female    0.007571\n",
      "30  Department_Research & Development    0.007199\n",
      "27   BusinessTravel_Travel_Frequently    0.006918\n",
      "24                       Attrition_No    0.006420\n",
      "25                      Attrition_Yes    0.005989\n",
      "36               EducationField_Other    0.005968\n",
      "26          BusinessTravel_Non-Travel    0.005925\n",
      "31                   Department_Sales    0.005565\n",
      "34           EducationField_Marketing    0.005335\n",
      "47            JobRole_Sales Executive    0.005251\n",
      "37    EducationField_Technical Degree    0.004824\n",
      "43                    JobRole_Manager    0.004664\n",
      "48       JobRole_Sales Representative    0.004321\n",
      "40  JobRole_Healthcare Representative    0.003396\n",
      "45          JobRole_Research Director    0.002811\n",
      "41            JobRole_Human Resources    0.002807\n",
      "29         Department_Human Resources    0.001911\n",
      "32     EducationField_Human Resources    0.001632\n",
      "15                      StandardHours    0.000000\n",
      "4                       EmployeeCount    0.000000\n",
      "52                           Over18_Y    0.000000>\n"
     ]
    }
   ],
   "source": [
    "# 랜덤 포레스트 분류\n",
    "clf = RandomForestClassifier(random_state=42)\n",
    "clf.fit(x_train, y_train)\n",
    "feature_importances = clf.feature_importances_\n",
    "\n",
    "# 중요도를 데이터프레임으로 변환하여 컬럼 이름과 함께 출력\n",
    "importance_df = pd.DataFrame({'Feature': x_train.columns, 'Importance': feature_importances})\n",
    "importance_df = importance_df.sort_values(by='Importance', ascending=False)\n",
    "\n",
    "print(importance_df.head)\n"
   ]
  },
  {
   "cell_type": "code",
   "execution_count": null,
   "metadata": {},
   "outputs": [],
   "source": [
    "# PercentSalaryHike는 고과에 따라 종속되는 요인임\n",
    "# MonthlyRate, DailyRate, HourlyRate, MonthlyIncome 는 비슷한 유형의 값들임\n",
    "# 9가지가량 변수는 BI에서 분석 진행"
   ]
  },
  {
   "cell_type": "code",
   "execution_count": 5,
   "metadata": {},
   "outputs": [],
   "source": [
    "# 기타 잡동사니\n",
    "\n",
    "# 'PerformanceRating' == 3,4\n",
    "# plt.hist(df['TotalWorkingYears'], bins=20, rwidth=0.8, alpha=0.7)\n",
    "# plt.xlabel('TotalWorkingYears')\n",
    "# plt.ylabel('Frequency')\n",
    "# plt.legend('PerformanceRating')\n",
    "# plt.title('Histogram of TotalWorkingYears')\n",
    "# plt.show()\n",
    "\n",
    "# # 'PerformanceRating' == 3\n",
    "# plt.hist(df[df['PerformanceRating'] == 3]['TotalWorkingYears'], bins=20, rwidth=0.8, alpha=0.7)\n",
    "# plt.xlabel('TotalWorkingYears')\n",
    "# plt.ylabel('Frequency')\n",
    "# plt.title('Histogram of TotalWorkingYears (Per=3)')\n",
    "# plt.show()\n",
    "\n",
    "# # 'PerformanceRating' == 4\n",
    "# plt.hist(df[df['PerformanceRating'] == 4]['TotalWorkingYears'], bins=20, rwidth=0.8, alpha=0.7)\n",
    "# plt.xlabel('TotalWorkingYears')\n",
    "# plt.ylabel('Frequency')\n",
    "# plt.title('Histogram of TotalWorkingYears (Per=4)')\n",
    "# plt.show()"
   ]
  },
  {
   "cell_type": "code",
   "execution_count": null,
   "metadata": {},
   "outputs": [],
   "source": []
  },
  {
   "cell_type": "markdown",
   "metadata": {},
   "source": [
    "EDA 7 Attrition"
   ]
  },
  {
   "cell_type": "code",
   "execution_count": 30,
   "metadata": {},
   "outputs": [
    {
     "name": "stdout",
     "output_type": "stream",
     "text": [
      "<bound method NDFrame.head of                               Feature  Importance\n",
      "11                      MonthlyIncome    0.072004\n",
      "0                                 Age    0.052054\n",
      "5                      EmployeeNumber    0.043895\n",
      "1                           DailyRate    0.041747\n",
      "12                        MonthlyRate    0.041186\n",
      "19                  TotalWorkingYears    0.041070\n",
      "53                        OverTime_No    0.040373\n",
      "2                    DistanceFromHome    0.038879\n",
      "7                          HourlyRate    0.038649\n",
      "54                       OverTime_Yes    0.038352\n",
      "22                     YearsAtCompany    0.037391\n",
      "25               YearsWithCurrManager    0.030471\n",
      "13                 NumCompaniesWorked    0.030255\n",
      "23                 YearsInCurrentRole    0.028937\n",
      "18                   StockOptionLevel    0.028002\n",
      "14                  PercentSalaryHike    0.027903\n",
      "9                            JobLevel    0.026185\n",
      "24            YearsSinceLastPromotion    0.025006\n",
      "6             EnvironmentSatisfaction    0.024344\n",
      "10                    JobSatisfaction    0.024233\n",
      "20              TrainingTimesLastYear    0.021793\n",
      "8                      JobInvolvement    0.021316\n",
      "51               MaritalStatus_Single    0.021058\n",
      "21                    WorkLifeBalance    0.018954\n",
      "16           RelationshipSatisfaction    0.018729\n",
      "3                           Education    0.018139\n",
      "27   BusinessTravel_Travel_Frequently    0.012185\n",
      "31                   Department_Sales    0.009242\n",
      "42      JobRole_Laboratory Technician    0.008942\n",
      "30  Department_Research & Development    0.008496\n",
      "39                        Gender_Male    0.008455\n",
      "48       JobRole_Sales Representative    0.008321\n",
      "50              MaritalStatus_Married    0.008255\n",
      "37    EducationField_Technical Degree    0.008252\n",
      "28       BusinessTravel_Travel_Rarely    0.007761\n",
      "35             EducationField_Medical    0.007741\n",
      "46         JobRole_Research Scientist    0.007299\n",
      "47            JobRole_Sales Executive    0.006869\n",
      "38                      Gender_Female    0.006027\n",
      "34           EducationField_Marketing    0.005943\n",
      "33       EducationField_Life Sciences    0.005632\n",
      "49             MaritalStatus_Divorced    0.005425\n",
      "15                  PerformanceRating    0.004425\n",
      "36               EducationField_Other    0.003328\n",
      "26          BusinessTravel_Non-Travel    0.003263\n",
      "44     JobRole_Manufacturing Director    0.002507\n",
      "29         Department_Human Resources    0.002305\n",
      "40  JobRole_Healthcare Representative    0.002209\n",
      "41            JobRole_Human Resources    0.002010\n",
      "32     EducationField_Human Resources    0.001905\n",
      "43                    JobRole_Manager    0.001332\n",
      "45          JobRole_Research Director    0.000947\n",
      "17                      StandardHours    0.000000\n",
      "52                           Over18_Y    0.000000\n",
      "4                       EmployeeCount    0.000000>\n"
     ]
    }
   ],
   "source": [
    "import pandas as pd\n",
    "from sklearn.ensemble import RandomForestClassifier\n",
    "from sklearn.model_selection import train_test_split\n",
    "\n",
    "query = \"SELECT * FROM hr_hipo\"  \n",
    "df = pd.read_sql(query, engine)\n",
    "# df.columns\n",
    "\n",
    "Y_train = df.pop('Attrition')\n",
    "X_train=pd.get_dummies(df)\n",
    "\n",
    "x_train, x_val, y_train, y_val = train_test_split(X_train, Y_train, test_size=0.2, random_state=42)\n",
    "\n",
    "# 랜덤 포레스트 분류\n",
    "clf = RandomForestClassifier(random_state=42)\n",
    "clf.fit(x_train, y_train)\n",
    "feature_importances = clf.feature_importances_\n",
    "\n",
    "# 중요도를 데이터프레임으로 변환하여 컬럼 이름과 함께 출력\n",
    "importance_df = pd.DataFrame({'Feature': x_train.columns, 'Importance': feature_importances})\n",
    "importance_df = importance_df.sort_values(by='Importance', ascending=False)\n",
    "\n",
    "print(importance_df.head)\n"
   ]
  },
  {
   "cell_type": "code",
   "execution_count": 31,
   "metadata": {},
   "outputs": [
    {
     "data": {
      "image/png": "[encoded data removed]",
      "text/plain": [
       "<Figure size 1000x600 with 1 Axes>"
      ]
     },
     "metadata": {},
     "output_type": "display_data"
    }
   ],
   "source": [
    "import matplotlib.pyplot as plt\n",
    "\n",
    "# 중요도를 중요도 기준 내림차순으로 정렬한 데이터프레임에서 상위 10개 특성을 가져옵니다.\n",
    "top_features = importance_df.head(10)\n",
    "\n",
    "# 시각화\n",
    "plt.figure(figsize=(10, 6))\n",
    "plt.barh(top_features['Feature'], top_features['Importance'], color='skyblue')\n",
    "plt.xlabel('Importance')\n",
    "plt.ylabel('Feature')\n",
    "plt.title('Top 10 Feature Importances')\n",
    "plt.gca().invert_yaxis()  # 상위 10개의 특성을 위에서 아래로 표시\n",
    "plt.show()"
   ]
  },
  {
   "cell_type": "code",
   "execution_count": 29,
   "metadata": {},
   "outputs": [
    {
     "name": "stdout",
     "output_type": "stream",
     "text": [
      "<bound method NDFrame.head of                               Feature  Importance\n",
      "11                      MonthlyIncome    0.072004\n",
      "0                                 Age    0.052054\n",
      "5                      EmployeeNumber    0.043895\n",
      "1                           DailyRate    0.041747\n",
      "12                        MonthlyRate    0.041186\n",
      "19                  TotalWorkingYears    0.041070\n",
      "53                        OverTime_No    0.040373\n",
      "2                    DistanceFromHome    0.038879\n",
      "7                          HourlyRate    0.038649\n",
      "54                       OverTime_Yes    0.038352\n",
      "22                     YearsAtCompany    0.037391\n",
      "25               YearsWithCurrManager    0.030471\n",
      "13                 NumCompaniesWorked    0.030255\n",
      "23                 YearsInCurrentRole    0.028937\n",
      "18                   StockOptionLevel    0.028002\n",
      "14                  PercentSalaryHike    0.027903\n",
      "9                            JobLevel    0.026185\n",
      "24            YearsSinceLastPromotion    0.025006\n",
      "6             EnvironmentSatisfaction    0.024344\n",
      "10                    JobSatisfaction    0.024233\n",
      "20              TrainingTimesLastYear    0.021793\n",
      "8                      JobInvolvement    0.021316\n",
      "51               MaritalStatus_Single    0.021058\n",
      "21                    WorkLifeBalance    0.018954\n",
      "16           RelationshipSatisfaction    0.018729\n",
      "3                           Education    0.018139\n",
      "27   BusinessTravel_Travel_Frequently    0.012185\n",
      "31                   Department_Sales    0.009242\n",
      "42      JobRole_Laboratory Technician    0.008942\n",
      "30  Department_Research & Development    0.008496\n",
      "39                        Gender_Male    0.008455\n",
      "48       JobRole_Sales Representative    0.008321\n",
      "50              MaritalStatus_Married    0.008255\n",
      "37    EducationField_Technical Degree    0.008252\n",
      "28       BusinessTravel_Travel_Rarely    0.007761\n",
      "35             EducationField_Medical    0.007741\n",
      "46         JobRole_Research Scientist    0.007299\n",
      "47            JobRole_Sales Executive    0.006869\n",
      "38                      Gender_Female    0.006027\n",
      "34           EducationField_Marketing    0.005943\n",
      "33       EducationField_Life Sciences    0.005632\n",
      "49             MaritalStatus_Divorced    0.005425\n",
      "15                  PerformanceRating    0.004425\n",
      "36               EducationField_Other    0.003328\n",
      "26          BusinessTravel_Non-Travel    0.003263\n",
      "44     JobRole_Manufacturing Director    0.002507\n",
      "29         Department_Human Resources    0.002305\n",
      "40  JobRole_Healthcare Representative    0.002209\n",
      "41            JobRole_Human Resources    0.002010\n",
      "32     EducationField_Human Resources    0.001905\n",
      "43                    JobRole_Manager    0.001332\n",
      "45          JobRole_Research Director    0.000947\n",
      "17                      StandardHours    0.000000\n",
      "52                           Over18_Y    0.000000\n",
      "4                       EmployeeCount    0.000000>\n"
     ]
    }
   ],
   "source": [
    "# import plotly.graph_objs as go\n",
    "# import chart_studio.plotly as py\n",
    "# import seaborn as sns\n"
   ]
  }
 ],
 "metadata": {
  "kernelspec": {
   "display_name": "Python 3",
   "language": "python",
   "name": "python3"
  },
  "language_info": {
   "codemirror_mode": {
    "name": "ipython",
    "version": 3
   },
   "file_extension": ".py",
   "mimetype": "text/x-python",
   "name": "python",
   "nbconvert_exporter": "python",
   "pygments_lexer": "ipython3",
   "version": "3.11.7"
  }
 },
 "nbformat": 4,
 "nbformat_minor": 2
}
